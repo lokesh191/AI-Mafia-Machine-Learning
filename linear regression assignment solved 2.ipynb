{
 "cells": [
  {
   "cell_type": "code",
   "execution_count": 1,
   "metadata": {},
   "outputs": [],
   "source": [
    "import numpy as np\n",
    "import pandas as pd\n",
    "import matplotlib.pyplot as plt\n"
   ]
  },
  {
   "cell_type": "code",
   "execution_count": 8,
   "metadata": {},
   "outputs": [
    {
     "name": "stdout",
     "output_type": "stream",
     "text": [
      "      feature_1  feature_2  feature_3  feature_4  feature_5      target\n",
      "0      0.293416  -0.945599  -0.421105   0.406816   0.525662  -82.154667\n",
      "1     -0.836084  -0.189228  -0.776403  -1.053831   0.597997  -48.897960\n",
      "2      0.236425   0.132836  -0.147723   0.699854  -0.187364   77.270371\n",
      "3      0.175312   0.143194  -0.581111  -0.122107  -1.292168   -2.988581\n",
      "4     -1.693011   0.542712  -2.798729  -0.686723   1.244077  -37.596722\n",
      "5     -1.055329  -0.874807   0.580753  -0.773541   1.070888 -122.405263\n",
      "6     -0.824707   0.499427   1.293281  -0.240671  -0.419136    1.413741\n",
      "7     -1.936602   0.583708  -0.521135  -0.631724  -1.030729  -13.306543\n",
      "8      0.647431  -0.265401   0.327080   0.457829  -1.757592  -25.754698\n",
      "9     -1.133029  -0.839132  -0.547809   0.551768  -0.639173  -57.077754\n",
      "10    -2.015734   0.102635  -0.136282  -0.021666   0.743511  -41.964694\n",
      "11     0.995705   0.404433  -0.650904   0.147422  -0.373554   78.080486\n",
      "12    -2.200223   0.094438  -2.430327  -0.692914  -0.668452  -93.639361\n",
      "13    -0.300770  -0.811463  -1.937111  -0.955217   0.444939 -133.317638\n",
      "14     0.177315  -1.464889   0.592158  -0.768679   1.161265 -159.590815\n",
      "15    -0.083158   0.508679  -0.923358  -0.096979  -0.183199   25.327815\n",
      "16     0.854740  -0.952329  -0.047007  -0.454386   0.635096  -59.741385\n",
      "17    -1.044389  -0.656232  -0.630098   1.134076  -0.447874    8.007756\n",
      "18    -0.625493   0.788249  -0.539730   0.007926   0.512638   13.124383\n",
      "19    -0.329592   0.618311  -0.205147   0.485597   0.138680   50.729802\n",
      "20    -0.939883  -0.138472  -0.290946  -0.379734   1.277450  -56.410281\n",
      "21    -0.164342   2.282222   0.646008   0.345041   0.615254  244.666249\n",
      "22    -0.888365  -1.643190  -0.410544   0.483515  -1.640638 -139.533896\n",
      "23     0.679559  -1.332132  -0.788716  -1.028697   0.771415 -172.599503\n",
      "24     1.202001   1.708672   0.638832   0.018433  -1.361102  209.467845\n",
      "25     0.751706   1.565283  -0.080598  -0.155169   0.023565  177.702941\n",
      "26    -0.067699   0.139594  -1.175736  -0.505815   0.989058   27.292170\n",
      "27    -2.159217   0.356438   1.740146  -0.108872  -0.400183  -34.383002\n",
      "28     0.713187  -1.482653  -0.359387   0.904155  -0.726404  -50.976780\n",
      "29     1.856230   1.354485   0.938611   0.943204   0.310218  217.976813\n",
      "...         ...        ...        ...        ...        ...         ...\n",
      "1570  -0.225807   1.213110  -1.375559   0.515592  -0.012567  103.740872\n",
      "1571   0.320988   0.906792   0.409174  -0.604164  -0.761622   81.571173\n",
      "1572  -2.080234   0.970917   1.085586  -0.656904   2.040094   13.779527\n",
      "1573  -0.248951  -1.063535  -0.614108   0.412893  -1.327922 -103.952248\n",
      "1574  -0.356968  -0.639721  -0.069936  -0.241750  -0.065399 -109.199461\n",
      "1575   0.906238  -0.312835   0.344144   1.566213  -1.459273   60.071695\n",
      "1576   0.457727  -0.091074   0.049400  -1.547699   0.367067  -58.291630\n",
      "1577  -1.281409  -1.267003   1.108804   0.766266   0.610578 -102.867954\n",
      "1578  -2.264984  -0.574287   0.234497   0.906805  -0.337837  -90.567159\n",
      "1579   0.485648   0.350977  -1.772946  -0.186666  -0.240794    3.423467\n",
      "1580   0.037694   1.027070  -0.821457  -0.675237  -1.299197   38.630045\n",
      "1581   0.473986   0.507194   1.321521   0.296678  -0.135203  104.005250\n",
      "1582  -1.090347  -1.317743  -1.127431   1.351151   0.103052 -132.754206\n",
      "1583  -0.485653  -0.279222   0.806337   0.762208   0.679837  -23.575639\n",
      "1584   1.339639   1.374280  -0.493700  -0.155458  -0.522258  166.423896\n",
      "1585  -0.533226   0.375595  -0.368000   2.198060   1.441469  122.494032\n",
      "1586   0.554841   0.501730  -0.862787  -0.158139  -0.094087   48.736609\n",
      "1587   0.263734   1.241994  -0.185326   0.695656  -0.542285  137.055965\n",
      "1588  -0.132846   0.583159  -0.875259  -0.521893  -0.163471   28.715842\n",
      "1589   0.622287  -0.067685  -0.702151  -0.121858   0.452018  -19.248457\n",
      "1590  -0.374072   1.434479  -1.872214   0.830121   1.941704  166.238729\n",
      "1591  -0.205200   0.886614  -0.115324  -0.416026   1.148498   40.636215\n",
      "1592   0.131213   0.173829  -0.332478   2.468500   0.444754  151.860893\n",
      "1593   1.006949   0.813034   0.922859   0.826836  -0.766023  153.060951\n",
      "1594   0.761401  -1.398014   2.144511   1.470462   0.630895  -23.242696\n",
      "1595  -0.274961  -0.820634  -0.757173  -0.147555  -0.307149  -80.110012\n",
      "1596  -0.076099   0.255257   0.290054   1.796036   0.340350  118.315601\n",
      "1597   1.044177  -0.899206   1.730399  -1.871057   0.442520 -107.510508\n",
      "1598  -1.269173  -0.005052   1.857669  -1.080365   0.736334  -47.341558\n",
      "1599  -1.884000  -0.849427  -1.452270   0.488613   1.459576 -115.939003\n",
      "\n",
      "[1600 rows x 6 columns]\n",
      "[1. 1. 1. ... 1. 1. 1.]\n"
     ]
    }
   ],
   "source": [
    "df=pd.read_csv(\"Train.csv\")\n",
    "one_arr=np.ones((df.shape[0],))\n",
    "print(df)\n",
    "print(one_arr)"
   ]
  },
  {
   "cell_type": "code",
   "execution_count": 3,
   "metadata": {},
   "outputs": [],
   "source": [
    "x=np.c_[one_arr,df['feature_1'],df['feature_2'],df['feature_3'],df['feature_4'],df['feature_5']]\n"
   ]
  },
  {
   "cell_type": "code",
   "execution_count": 4,
   "metadata": {},
   "outputs": [
    {
     "data": {
      "text/plain": [
       "array([[ 1.        ,  0.29341624, -0.94559871, -0.42110515,  0.40681602,\n",
       "         0.52566183],\n",
       "       [ 1.        , -0.83608408, -0.18922804, -0.77640262, -1.05383124,\n",
       "         0.59799685],\n",
       "       [ 1.        ,  0.23642511,  0.13283602, -0.14772298,  0.69985396,\n",
       "        -0.18736416],\n",
       "       ...,\n",
       "       [ 1.        ,  1.04417694, -0.89920649,  1.73039905, -1.87105676,\n",
       "         0.44251965],\n",
       "       [ 1.        , -1.2691729 , -0.00505216,  1.85766873, -1.08036482,\n",
       "         0.73633394],\n",
       "       [ 1.        , -1.88400025, -0.84942743, -1.45227035,  0.48861308,\n",
       "         1.4595758 ]])"
      ]
     },
     "execution_count": 4,
     "metadata": {},
     "output_type": "execute_result"
    }
   ],
   "source": [
    "x"
   ]
  },
  {
   "cell_type": "code",
   "execution_count": 27,
   "metadata": {},
   "outputs": [
    {
     "data": {
      "text/plain": [
       "array([ -82.15466656,  -48.89796018,   77.2703707 , ..., -107.51050797,\n",
       "        -47.34155781, -115.93900296])"
      ]
     },
     "execution_count": 27,
     "metadata": {},
     "output_type": "execute_result"
    }
   ],
   "source": [
    "y=df['target'].values\n",
    "y.reshape((-1,))\n",
    "y\n"
   ]
  },
  {
   "cell_type": "code",
   "execution_count": 6,
   "metadata": {},
   "outputs": [],
   "source": [
    "def hypothesis(x,theta):\n",
    "    return(np.dot(x,theta))\n"
   ]
  },
  {
   "cell_type": "code",
   "execution_count": 7,
   "metadata": {},
   "outputs": [],
   "source": [
    "def error(x,theta,y):\n",
    "    err=0\n",
    "    m=x.shape[0]\n",
    "    for i in range(m):\n",
    "        hx=hypothesis(x[i],theta)\n",
    "        err+=(hx-y[i])**2\n",
    "    return err"
   ]
  },
  {
   "cell_type": "code",
   "execution_count": 8,
   "metadata": {},
   "outputs": [],
   "source": [
    "def gradient(x,theta,y):\n",
    "    m=x.shape[0]\n",
    "    grad=np.zeros((theta.shape))\n",
    "    for i in range(m):\n",
    "        hx=hypothesis(x[i],theta)\n",
    "        grad+=(hx-y[i])*x[i]\n",
    "    return grad/m\n",
    "        "
   ]
  },
  {
   "cell_type": "code",
   "execution_count": 9,
   "metadata": {},
   "outputs": [],
   "source": [
    "def gradientdescent(x,y,learning_rate=0.01):\n",
    "    theta=np.zeros((x.shape[1],))\n",
    "    err_list=[]\n",
    "    theta_list=[]\n",
    "    for i in range(1000):\n",
    "        grad=gradient(x,theta,y)\n",
    "        err=error(x,theta,y)\n",
    "        err_list.append(err)\n",
    "        theta_list.append(theta)\n",
    "        theta-=(learning_rate*(grad))\n",
    "    return theta,err_list,theta_list\n",
    "    "
   ]
  },
  {
   "cell_type": "code",
   "execution_count": 10,
   "metadata": {},
   "outputs": [],
   "source": [
    "final_theta , err_list , theta_list = gradientdescent(x,y)"
   ]
  },
  {
   "cell_type": "code",
   "execution_count": 11,
   "metadata": {},
   "outputs": [
    {
     "data": {
      "text/plain": [
       "[<matplotlib.lines.Line2D at 0x1f370412748>]"
      ]
     },
     "execution_count": 11,
     "metadata": {},
     "output_type": "execute_result"
    },
    {
     "data": {
      "image/png": "[encoded data removed]",
      "text/plain": [
       "<Figure size 432x288 with 1 Axes>"
      ]
     },
     "metadata": {
      "needs_background": "light"
     },
     "output_type": "display_data"
    }
   ],
   "source": [
    "plt.plot(err_list)"
   ]
  },
  {
   "cell_type": "code",
   "execution_count": 12,
   "metadata": {},
   "outputs": [
    {
     "name": "stdout",
     "output_type": "stream",
     "text": [
      "[ 4.98825521 29.67987527 92.65908015  8.27756078 44.76510038  2.51769725]\n"
     ]
    }
   ],
   "source": [
    "print(final_theta)"
   ]
  },
  {
   "cell_type": "code",
   "execution_count": 18,
   "metadata": {},
   "outputs": [
    {
     "name": "stdout",
     "output_type": "stream",
     "text": [
      "(400, 5)\n"
     ]
    }
   ],
   "source": [
    "Xtest=pd.read_csv(\"Test.csv\")\n",
    "Xtest=Xtest.values\n",
    "Xtest.reshape((-1,))\n",
    "print(Xtest.shape)\n",
    "xtest=Xtest"
   ]
  },
  {
   "cell_type": "code",
   "execution_count": 28,
   "metadata": {},
   "outputs": [
    {
     "ename": "ValueError",
     "evalue": "shapes (400,5) and (6,) not aligned: 5 (dim 1) != 6 (dim 0)",
     "output_type": "error",
     "traceback": [
      "\u001b[1;31m---------------------------------------------------------------------------\u001b[0m",
      "\u001b[1;31mValueError\u001b[0m                                Traceback (most recent call last)",
      "\u001b[1;32m<ipython-input-28-5858b1f86954>\u001b[0m in \u001b[0;36m<module>\u001b[1;34m\u001b[0m\n\u001b[0;32m      1\u001b[0m \u001b[1;31m#plt.scatter(x,y,label='trainingdata')\u001b[0m\u001b[1;33m\u001b[0m\u001b[1;33m\u001b[0m\u001b[1;33m\u001b[0m\u001b[0m\n\u001b[1;32m----> 2\u001b[1;33m \u001b[0mplt\u001b[0m\u001b[1;33m.\u001b[0m\u001b[0mplot\u001b[0m\u001b[1;33m(\u001b[0m\u001b[0mxtest\u001b[0m\u001b[1;33m,\u001b[0m\u001b[0mhypothesis\u001b[0m\u001b[1;33m(\u001b[0m\u001b[0mxtest\u001b[0m\u001b[1;33m,\u001b[0m\u001b[0mfinal_theta\u001b[0m\u001b[1;33m)\u001b[0m\u001b[1;33m,\u001b[0m\u001b[0mcolor\u001b[0m\u001b[1;33m=\u001b[0m\u001b[1;34m'orange'\u001b[0m\u001b[1;33m,\u001b[0m\u001b[0mlabel\u001b[0m\u001b[1;33m=\u001b[0m\u001b[1;34m\"Prediction\"\u001b[0m\u001b[1;33m)\u001b[0m\u001b[1;33m\u001b[0m\u001b[1;33m\u001b[0m\u001b[0m\n\u001b[0m",
      "\u001b[1;32m<ipython-input-6-e2b0c1a15f8f>\u001b[0m in \u001b[0;36mhypothesis\u001b[1;34m(x, theta)\u001b[0m\n\u001b[0;32m      1\u001b[0m \u001b[1;32mdef\u001b[0m \u001b[0mhypothesis\u001b[0m\u001b[1;33m(\u001b[0m\u001b[0mx\u001b[0m\u001b[1;33m,\u001b[0m\u001b[0mtheta\u001b[0m\u001b[1;33m)\u001b[0m\u001b[1;33m:\u001b[0m\u001b[1;33m\u001b[0m\u001b[1;33m\u001b[0m\u001b[0m\n\u001b[1;32m----> 2\u001b[1;33m     \u001b[1;32mreturn\u001b[0m\u001b[1;33m(\u001b[0m\u001b[0mnp\u001b[0m\u001b[1;33m.\u001b[0m\u001b[0mdot\u001b[0m\u001b[1;33m(\u001b[0m\u001b[0mx\u001b[0m\u001b[1;33m,\u001b[0m\u001b[0mtheta\u001b[0m\u001b[1;33m)\u001b[0m\u001b[1;33m)\u001b[0m\u001b[1;33m\u001b[0m\u001b[1;33m\u001b[0m\u001b[0m\n\u001b[0m",
      "\u001b[1;31mValueError\u001b[0m: shapes (400,5) and (6,) not aligned: 5 (dim 1) != 6 (dim 0)"
     ]
    }
   ],
   "source": [
    "plt.scatter(x,y,label='trainingdata')\n",
    "plt.plot(xtest,hypothesis(xtest,final_theta),color='orange',label=\"Prediction\")\n"
   ]
  },
  {
   "cell_type": "code",
   "execution_count": null,
   "metadata": {},
   "outputs": [],
   "source": []
  }
 ],
 "metadata": {
  "kernelspec": {
   "display_name": "Python 3",
   "language": "python",
   "name": "python3"
  },
  "language_info": {
   "codemirror_mode": {
    "name": "ipython",
    "version": 3
   },
   "file_extension": ".py",
   "mimetype": "text/x-python",
   "name": "python",
   "nbconvert_exporter": "python",
   "pygments_lexer": "ipython3",
   "version": "3.7.3"
  }
 },
 "nbformat": 4,
 "nbformat_minor": 2
}
